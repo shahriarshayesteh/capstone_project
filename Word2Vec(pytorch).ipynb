{
  "nbformat": 4,
  "nbformat_minor": 0,
  "metadata": {
    "colab": {
      "name": "Untitled3.ipynb",
      "version": "0.3.2",
      "provenance": []
    },
    "kernelspec": {
      "name": "python3",
      "display_name": "Python 3"
    },
    "accelerator": "GPU"
  },
  "cells": [
    {
      "cell_type": "code",
      "metadata": {
        "id": "o7yYE7X7_mgS",
        "colab_type": "code",
        "outputId": "d7eb2c47-2655-46c8-b4c1-f138ad7ea644",
        "colab": {
          "base_uri": "https://localhost:8080/",
          "height": 87
        }
      },
      "source": [
        "import keras, os, pickle, re, sklearn, string, tensorflow\n",
        "import numpy as np\n",
        "import matplotlib.pyplot as plt\n",
        "\n",
        "from nltk.corpus import stopwords\n",
        "from keras.utils import to_categorical\n",
        "from keras.callbacks import ModelCheckpoint, ReduceLROnPlateau\n",
        "from keras.preprocessing.text import Tokenizer\n",
        "from keras.preprocessing.sequence import pad_sequences\n",
        "from keras.models import load_model\n",
        "from keras.layers import Embedding\n",
        "from keras.optimizers import Adadelta\n",
        "from sklearn.model_selection import train_test_split\n",
        "\n",
        "\n",
        "print('Keras version: \\t\\t%s' % keras.__version__)\n",
        "print('Scikit version: \\t%s' % sklearn.__version__)\n",
        "print('TensorFlow version: \\t%s' % tensorflow.__version__)\n"
      ],
      "execution_count": 1,
      "outputs": [
        {
          "output_type": "stream",
          "text": [
            "Using TensorFlow backend.\n"
          ],
          "name": "stderr"
        },
        {
          "output_type": "stream",
          "text": [
            "Keras version: \t\t2.2.4\n",
            "Scikit version: \t0.21.2\n",
            "TensorFlow version: \t1.13.1\n"
          ],
          "name": "stdout"
        }
      ]
    },
    {
      "cell_type": "code",
      "metadata": {
        "id": "QK926j1NHzwm",
        "colab_type": "code",
        "outputId": "9c79d5dd-e0f0-4a6b-e1ee-866a0ec99150",
        "colab": {
          "base_uri": "https://localhost:8080/",
          "height": 121
        }
      },
      "source": [
        "import nltk\n",
        "nltk.download('punkt')\n",
        "nltk.download('stopwords')# Download text data sets, including stop words\n",
        "from nltk.corpus import stopwords # Import the stop word list\n",
        "import re\n",
        "from bs4 import BeautifulSoup\n",
        "\n",
        "\n",
        "# Download the punkt tokenizer for sentence splitting\n",
        "import nltk.data\n",
        "nltk.download('punkt')   \n",
        "\n",
        "# Load the punkt tokenizer\n",
        "tokenizer = nltk.data.load('tokenizers/punkt/english.pickle')\n",
        "\n",
        "\n",
        "from bs4 import BeautifulSoup\n",
        "import re\n",
        "from nltk.corpus import stopwords\n",
        "\n",
        "\n",
        "class Creat_vocabulary():\n",
        "  \n",
        "  def __init__(self):\n",
        "    self.m = 1\n",
        "  \n",
        "\n",
        "  # Define a function to split a review into parsed sentences\n",
        "  def review_to_sentences( self, review, tokenizer, remove_stopwords=False ):\n",
        "      # Function to split a review into parsed sentences. Returns a \n",
        "      # list of sentences, where each sentence is a list of words\n",
        "    \n",
        "      # 1. Use the NLTK tokenizer to split the paragraph into sentences\n",
        "      raw_sentences = tokenizer.tokenize(review.strip())\n",
        "    \n",
        "    \n",
        "      # 2. Loop over each sentence\n",
        "      sentences = []\n",
        "      for raw_sentence in raw_sentences:\n",
        "      \n",
        "          # If a sentence is empty, skip it\n",
        "          if len(raw_sentence) > 0:\n",
        "          \n",
        "              # Otherwise, call review_to_wordlist to get a list of words\n",
        "              sentences.append( self.review_to_wordlist( raw_sentence,remove_stopwords ))\n",
        "    \n",
        "      # Return List os List of Tokens in a sentence\n",
        "      return sentences\n",
        "\n",
        "  \n",
        "  def review_to_wordlist(self, review, remove_stopwords=False ):\n",
        "  \n",
        "    # Function to convert a document to a sequence of words,\n",
        "    # optionally removing stop words. Returns a list of words.\n",
        "\n",
        "    # 1. Remove HTML\n",
        "    review_text = BeautifulSoup(review).get_text()\n",
        "\n",
        "    # 2. Remove non-letters\n",
        "    review_text = re.sub(\"[^a-zA-Z]\",\" \", review_text)\n",
        "\n",
        "    # 3. Convert words to lower case and split them\n",
        "    words = review_text.lower().split()\n",
        "\n",
        "    # 4. Optionally remove stop words (false by default)\n",
        "    if remove_stopwords:\n",
        "        stops = set(stopwords.words(\"english\"))\n",
        "        words = [w for w in words if not w in stops]\n",
        "\n",
        "    # 5. Return a list of words\n",
        "    return(words)\n",
        "\n",
        "\n",
        "  def reviews_to_Words(self,review, tokenizer):\n",
        "  \n",
        "    sentences = []  # Initialize an empty list of sentences\n",
        "\n",
        "    print (\"Parsing sentences from training set\")\n",
        "  \n",
        "    for review in data1[\"review\"]:\n",
        "      sentences += self.review_to_sentences(review, tokenizer)\n",
        "  \n",
        "    return sentences"
      ],
      "execution_count": 27,
      "outputs": [
        {
          "output_type": "stream",
          "text": [
            "[nltk_data] Downloading package punkt to /root/nltk_data...\n",
            "[nltk_data]   Package punkt is already up-to-date!\n",
            "[nltk_data] Downloading package stopwords to /root/nltk_data...\n",
            "[nltk_data]   Package stopwords is already up-to-date!\n",
            "[nltk_data] Downloading package punkt to /root/nltk_data...\n",
            "[nltk_data]   Package punkt is already up-to-date!\n"
          ],
          "name": "stdout"
        }
      ]
    },
    {
      "cell_type": "code",
      "metadata": {
        "id": "lLymiuSicQGL",
        "colab_type": "code",
        "colab": {
          "base_uri": "https://localhost:8080/",
          "height": 35
        },
        "outputId": "fd6bc02d-372a-4785-e511-9e01372b9025"
      },
      "source": [
        "from google.colab import drive\n",
        "import glob\n",
        "import os\n",
        "import pandas as pd\n",
        "\n",
        "#in order to use the dataset from MyDrive, need to mount it in google colab\n",
        "drive.mount('/content/gdrive/')\n",
        "path = '/content/gdrive/My Drive/data/labeledTrainData.tsv'\n",
        "\n",
        "data1 = pd.read_csv(path, header=0, delimiter=\"\\t\", quoting=3)\n",
        "data = data1['review']\n",
        "target = data1['sentiment']"
      ],
      "execution_count": 18,
      "outputs": [
        {
          "output_type": "stream",
          "text": [
            "Drive already mounted at /content/gdrive/; to attempt to forcibly remount, call drive.mount(\"/content/gdrive/\", force_remount=True).\n"
          ],
          "name": "stdout"
        }
      ]
    },
    {
      "cell_type": "code",
      "metadata": {
        "id": "-kEv3xQleARV",
        "colab_type": "code",
        "colab": {}
      },
      "source": [
        ""
      ],
      "execution_count": 0,
      "outputs": []
    },
    {
      "cell_type": "code",
      "metadata": {
        "id": "ybSrRiltdYO2",
        "colab_type": "code",
        "colab": {}
      },
      "source": [
        "import pandas as pd\n",
        "from sklearn import datasets, linear_model\n",
        "from sklearn.model_selection import train_test_split\n",
        "from matplotlib import pyplot as plt\n",
        "\n",
        "# create training and testing vars\n",
        "train, test, ytrain, ytest = train_test_split(data, target, test_size=0.2)\n",
        "#print X_train.shape, y_train.shape\n",
        "#print X_test.shape, y_test.shape"
      ],
      "execution_count": 0,
      "outputs": []
    },
    {
      "cell_type": "code",
      "metadata": {
        "id": "Q8IIPXlQXy4Q",
        "colab_type": "code",
        "colab": {}
      },
      "source": [
        "xtrain = train.values.reshape(-1,1)"
      ],
      "execution_count": 0,
      "outputs": []
    },
    {
      "cell_type": "code",
      "metadata": {
        "id": "tITpCjRKhGYJ",
        "colab_type": "code",
        "outputId": "0979e087-fda2-48c9-9116-1cf391b1d03e",
        "colab": {
          "base_uri": "https://localhost:8080/",
          "height": 176
        }
      },
      "source": [
        "xtrain"
      ],
      "execution_count": 21,
      "outputs": [
        {
          "output_type": "execute_result",
          "data": {
            "text/plain": [
              "array([['\"Sometimes realism can work against the effectiveness of a film. That\\'s no problem here. The sets are cheesy, inside and out. The fog is ubiquitous, half disguising the shabbiness of the production. If there\\'s a bar, the name painted on the front window says simply, \\\\\"Wine And Spirits.\\\\\" The result is a claustrophobic set of scenes. Not a single shot of a city or even a fake skyline. That\\'s the kind of Dublin this story is about, just as Jack the Ripper movies are about seedy, foggy, cobblestoned Whitechapel. Who would want it any other way? How could it have been any other way with no bankable stars, a minuscule budget, and a four-week shooting schedule? The acting follows suit -- outrageously hammy on everyone\\'s part. Sometimes, my God, it\\'s positively excruciating. Mrs. McPhillips moaning after Frankie is shot dead outside the house. Victor McLaglin however delivers exactly the right kind of overdone performance. Wardrobe has stuffed him into a too-small jacket so that he seems to be bursting out of it like Frankenstein\\'s monster. His every movement seems to go a little farther than it was intended to. When he slaps his cap on his head, he bops himself on the temple. A big, blustering, blubbering baby, he seems constantly drunk. He betrays his best friend for the reward money which will take him and his would-be girl to America, not a good guy in the ordinary sense. Yet we wince as he begins to spend the 20 pounds, more and more of it during a wild, alcoholic night, because every expensive and grandiose gesture takes him farther from his dream. I wouldn\\'t argue it, but I can understand why he won an Oscar.<br /><br />As for Max Steiner\\'s score, wow. Every movement, already overdone, is not only underlined by the Mickey Mouse music but highlighted in glossy yellow. It shouldn\\'t have happened -- the heavenly choirs, the endearing young charms, the minstrel boy, the gurgling tune while McLaglen drinks from the bottle. It would have been better off with no score at all.<br /><br />Well, how is it as a whole? Dated -- by any measure, but not a product of its times. That\\'s why I admire it. Yes, the symbolism is clumsy at times. McLaglen, a real dummy, bumping his head against a hanging sign. The fog. The blind man. But what impresses me is how little of this was being tried at the time. What strikes us as overly arty today was in 1936 something quite different from what was seen in most of the programmers being ground out at the time. If it falls short at times, it doesn\\'t matter. The movie was an act of courage, politically and morally as well as poetically. (The legion of decency condemned it because of a scene in a brothel.) A director\\'s goal should exceed his grasp, or what\\'s a script for? Watching it now, however, in 2006, the story is more disturbing than ever. John Ford obviously sympathized with the Irish rebels. They kill, but only out of what they see as necessity. (\\\\\"He knows too much to live. What if he goes to the Tans? Oh, it\\'s not me-self I\\'m thinking of but all of us, of Ireland herself.\\\\\") The Irish are sentimentalized and sympathetic. I wonder if the Jihadists in the Middle East don\\'t use a similar logic to justify their acts of violence.\"'],\n",
              "       ['\"This is a very unusual film in that the star with the top billing doesn\\'t appear literally until half way in. Nevertheless I was engaged by the hook of the Phantom Lady. Curtis, though competent as the falsely accused Scott Henderson, looks a little tough to be be sympathetic towards (perhaps he should have shaved his moustache) and his behavior when he first comes home should have convinced the cops at least to some degree of his innocence. While another commentator had a problem with Franchot Tone as Jack Marlowe I found his portrayal of the character to be impressively complex. He is no stock villain. Superb character actor Elisha Cook Jr. is again in top form as the \\'little man with big ambitions.\\' His drumming in the musical numbers added a welcome touch of eroticism. This movie however is carried by the very capable and comely Ella Raines as the devoted would be lover of Henderson, Carol Richmond. She definitely has talent and her screen presence is in the tradition of Lauren Bacall. This is the first of her work I have seen and I am definitely inclined to see her other roles. The rest of the supporting cast is also more than competent. All in all a very satisfying film noir mystery which when viewed today fully conveys the dark and complex urban world it is intended to. Recommended, 8/10.\"'],\n",
              "       ['\"Sarah Silverman is like a totally manic Zooey Deschanel and I think I\\'m in love already. Yeah, if you loved Jesus is Magic, you\\'ll love this. If you didn\\'t, what the heck is wrong with you? Kudos to the Comedy Channel for shoving this in my face. My life finally has meaning, and \\\\\"Your car smells like farts\\\\\" is my kind of humor. I\\'m a happy guy. The first episode had me laughing hysterically and I\\'m hungrily looking forward to next week. This is like Grease meets South Park. Completely outrageous. Sarah Silverman is someone I could watch reading the phone book. Her delivery is precise and oh so funny. She never skips a beat. Come to think of it, it\\'s not so much her choice of material. which is some really good stuff by the way, as it is the way she chooses to deliver it. Thank you, Sarah Silverman! Thank you, Comedy Channel!\"'],\n",
              "       ...,\n",
              "       ['\"Boris Karloff and Bela Lugosi made many films together, but on the whole (interestingly enough) Karloff usually is the better man of the two. The real exception is \\\\\"The Black Cat\\\\\" (1934) where Karloff is playing the evil head of a devil cult, and Lugosi is seeking revenge on him for destroying his life. But more usual is \\\\\"Black Friday\\\\\", where (whatever his motive) Karloff is trying to improve brain surgery while Lugosi is a murderous thug. In \\\\\"The Raven\\\\\" Lugosi is a sadistic surgeon, who blackmails Karloff to assist his evil plans until Karloff finally has had enough. Rarely are they both negative characters totally. In \\\\\"The Body Snatcher\\\\\", Karloff does kill Lugosi, but Lugosi is trying to blackmail him.<br /><br />The one exception where they are both extremely sympathetic but at cross purposes to each other is this 1936 film, which I feel has rarely had the audience acceptance of some of the other movies I have mentioned. In it Karloff\\'s Dr. Janos Rukh is a hard driven scientific genius who has been sneered at by the \\\\\"official scientific community\\\\\" for his theory that a rare form of Radium is in Nigeria on a meteorite that landed centuries ago. He has finally gotten the support of a well financed expedition led by Sir Francis Stevens and his wife Lady Arabella Stevens (Walter Kingsford and Beulah Bondi), and has another scientist, a Frenchman named Dr. Felix Benet (Lugosi), Rukh\\'s young wife Diane (Frances Drake) and a friend and protégée of the Stevenses named Ronald Drake (Frank Lawton).<br /><br />Before they leave, Rukh is warned by his mother (Violet Kemble Cooper) that he is possibly seeking wisdom that he shouldn\\'t and it may end in tragedy. He tries to dismiss this, but he is worried by what she says, his scientific standing, and whether or not he is going to get his due credit.<br /><br />What he gets is a disaster. He finds the substance, but is infected by it\\'s remarkable radioactivity. He finds that he is slowly burning up, and if he tries to touch people or animals they die. He\\'s actually built up a friendship or understanding with Benet, who figures out a type of radioactive fighting cocktail for Rukh to use to counter the danger. But there are two things that are unbeatable here. The antidote can only last for a certain amount of time, and has to be replenished. And the radioactivity has affected Rukh\\'s brain. He is increasingly jealous of Diane\\'s friendship with Ronald (encouraged, unfortunately by Sir Francis and Lady Arabella), and he is equally upset that (due to his having to pretend to have died - the effects of the radioactivity are like that) Benet and several others are collecting the kudos of the wonders that \\\\\"Radium X\\\\\" is giving to man. Soon Rukh is on a murderous rampage that destroys many lives, ending with his own.<br /><br />The film certainly picked up on science to an extent. Madame Curie had died recently from cancer she got due to work with Radium. Few fully understood the dangers of radioactivity in 1936, but some idea of it was coming out. The wave of murders by Rukh cause the newspapers to talk about a \\\\\"curse\\\\\" on the expedition. Of course, with the idea of a \\\\\"cursed\\\\\" expedition (on the continent of Africa) for a hidden treasure buried centuries ago, financed by a titled Englishman, we have entered archeology not physics or geology (paging Howard Carter and Lord Carnaevon).<br /><br />On the other hand, Benet tries to settle the cause of the string of deaths, and reverts to an idea that was actually demolished in 1888 in England. During the Whitechapel Murders, Sir Charles Warren ordered the retinas of several of the dead victims to be photographed to see if the last image on the retinas was Jack the Ripper. It turned out he only got the photographs of the retinas of dead prostitutes. But the idea did not die. Jules Verne used it in his novel \\\\\"The Brothers Kip\\\\\" in 1899, and here Dr. Benet uses it. As this is a science fiction story, he finds the image of Rukh on the the plate, but Benet drops the plate accidentally and it shatters.<br /><br />The film is good on many grounds, the most interesting that for a change Karloff and Lugosi are not unsympathetic towards each other. There is a type of tragic fatalism in this story that is missing from their other films. The other performances are good as well, in particular Ms Kemble Cooper. She is best remembered as Basil Rathbone\\'s frightening sister (Jane Murdstone) in \\\\\"David Copperfield\\\\\". Here her final act is the only way to bring this tragedy to an end, and who can say it did not hurt her more than her target.\"'],\n",
              "       ['\"Probably the most whimsical installment of the first season, \\'Shore Leave\\' has its ups and downs; some parts drag on too long and others are unambitiously cut short, but one can\\'t deny they threw in everything but the proverbial kitchen sink to make this an entertaining episode. Kirk and crew seem to have found the perfect planet for shore leave after an extended tour of duty has left everyone on board in need of rest, relaxation and so on. It appears for all intents and purposes to be an uninhabited Earth, with beautiful scenery and an ideal climate. The first indication that things might go just a little awry is when McCoy, leading an advance team, spots Alice (from Wonderland) following a large white rabbit wearing a vest. Kirk beams down and finds the others reporting similarly bizarre happenings and encounters. The one thing they all have in common is that each crew member was thinking about the person/place/thing they discovered right before they discovered it. This doesn\\'t immediately sink in with Kirk or anyone else. More strangeness ensues, including sightings of Don Juan, a Siberian tiger, a WW2 fighter plane, etc; Kirk meets up with Ruth, a gorgeous old girlfriend (of course) and a bully from his Academy days, Finnegan. The chase/fight scene with Finnegan goes on too long but at the same time, McCoy is run through with a lance by a knight on horseback and apparently killed. Finally, an elderly man appears and explains what has been happening. The planet is a futuristic \\'amusement park\\' where visitors have only to imagine something to have it appear. Nothing is permanent; McCoy isn\\'t really dead. Once this is explained, Kirk decides to order shore leave for everyone after all. Despite the \\'it was all a dream\\' sort of ending, \\'Shore Leave\\' holds up as another first-rate episode of Star Trek\\'s first season.\"'],\n",
              "       ['\"wow, the Naked Brothers Band. What should i say. I guess i can say this show just sucks. number one: they have no talent, they probably can\\'t even play the instruments. number 2: on the commercial it said they were famous but nobody even heard of them till there crappy show came on. Look, i really don\\'t hate it that bad, i\\'d give it like a 4 out of 10, but what annoys me is how everyone says they have such great talent and Nat is SO deep and writes deep lyrics. Deep my ass! he talks about hardcore wrestlers with inner feelings. wow, i could read what it says on the walls of a bathroom and it would be more deep than that. And they didn\\'t get famous by themselves, their parents are famous celebrities and wanted their kids to be too so they made up a bad show. i have a feeling that it will be canceled soon.\"']],\n",
              "      dtype=object)"
            ]
          },
          "metadata": {
            "tags": []
          },
          "execution_count": 21
        }
      ]
    },
    {
      "cell_type": "code",
      "metadata": {
        "id": "SPA-qWaOWT2p",
        "colab_type": "code",
        "outputId": "6ac9524f-3642-479c-86e0-0a77673f38c3",
        "colab": {
          "base_uri": "https://localhost:8080/",
          "height": 124
        }
      },
      "source": [
        "sentences = []  # Initialize an empty list of sentences\n",
        "vocab =  Creat_vocabulary()\n",
        "sentences =vocab.reviews_to_Words(data1 , tokenizer)"
      ],
      "execution_count": 28,
      "outputs": [
        {
          "output_type": "stream",
          "text": [
            "Parsing sentences from training set\n"
          ],
          "name": "stdout"
        },
        {
          "output_type": "stream",
          "text": [
            "/usr/local/lib/python3.6/dist-packages/bs4/__init__.py:273: UserWarning: \"b'.'\" looks like a filename, not markup. You should probably open this file and pass the filehandle into Beautiful Soup.\n",
            "  ' Beautiful Soup.' % markup)\n",
            "/usr/local/lib/python3.6/dist-packages/bs4/__init__.py:336: UserWarning: \"http://www.happierabroad.com\"\" looks like a URL. Beautiful Soup is not an HTTP client. You should probably use an HTTP client like requests to get the document behind the URL, and feed that document to Beautiful Soup.\n",
            "  ' that document to Beautiful Soup.' % decoded_markup\n"
          ],
          "name": "stderr"
        }
      ]
    },
    {
      "cell_type": "code",
      "metadata": {
        "id": "uAJzUW4ki-C_",
        "colab_type": "code",
        "colab": {}
      },
      "source": [
        "#sentences[1]"
      ],
      "execution_count": 0,
      "outputs": []
    },
    {
      "cell_type": "code",
      "metadata": {
        "id": "IUJVQyAjLH1R",
        "colab_type": "code",
        "colab": {}
      },
      "source": [
        "import torch\n",
        "from torch import nn\n",
        "import torch.nn.functional as F\n",
        "from torch import optim\n",
        "\n",
        "\n",
        "\n",
        "\n",
        "\n",
        "model = nn.Sequential(\n",
        "    \n",
        "    \n",
        "                      nn.Embedding(vocab_size, embedding_dim),\n",
        "                      nn.Linear(embedding_dim,256),\n",
        "                      nn.Linear(256,context_size * vocab_size),\n",
        "                      nn.LogSoftmax(dim=1))\n",
        "\n",
        "\n",
        "\n",
        "objective = nn.NLLLoss()\n",
        "optimizer = optim.SGD(model.parameters(), lr=0.003)\n",
        "\n",
        "\n",
        "losses= []\n",
        "epoch = 4\n",
        "\n",
        "for e in range(epoch):\n",
        "  \n",
        "  running_loss = 0\n",
        "\n",
        "  for images, labels in trainloader:\n",
        "      \n",
        "        context_idxs = torch.tensor([word_to_ix[w] for w in context], dtype=torch.long)\n",
        "        optimizer.zero_grad()\n",
        "\n",
        "        output = model(context_idxs)\n",
        "        \n",
        "        loss = objective(output, torch.tensor([word_to_ix[target]], dtype=torch.long))\n",
        "        \n",
        "        loss.backward()\n",
        "        optimizer.step()\n",
        "        \n",
        "        running_loss += loss.item()\n",
        "        losses.append(loss.item())\n",
        "  else:\n",
        "        print(f\"Training loss: {running_loss/len(trainloader)}\")"
      ],
      "execution_count": 0,
      "outputs": []
    },
    {
      "cell_type": "code",
      "metadata": {
        "id": "EnFRlwSpO3CY",
        "colab_type": "code",
        "outputId": "80ad7066-2c2c-49ae-82ad-af07547307e5",
        "colab": {
          "base_uri": "https://localhost:8080/",
          "height": 2028
        }
      },
      "source": [
        "import logging\n",
        "logging.basicConfig(format='%(asctime)s : %(levelname)s : %(message)s',    level=logging.INFO)\n",
        "\n",
        "def myhashfxn(obj):\n",
        "    return hash(obj) % (2 ** 32)\n",
        "\n",
        "# Set values for various parameters\n",
        "num_features = 400    # Word vector dimensionality                      \n",
        "min_word_count = 60   # Minimum word count                        \n",
        "num_workers = 4       # Number of threads to run in parallel\n",
        "context = 10          # Context window size                                                                                    \n",
        "downsampling = 1e-3   # Downsample setting for frequent words\n",
        "\n",
        "\n",
        "#**********************************************************\n",
        "\n",
        "\n",
        "\n",
        "# Initialize and train the model (this will take some time)\n",
        "from gensim.models import word2vec\n",
        "#model = word2vec.Word2Vec(hashfxn=myhashfxn)\n",
        "\n",
        "print (\"Training model...\")\n",
        "model = word2vec.Word2Vec(sentences, workers=num_workers,             size=num_features, min_count = min_word_count,             window = context, sample = downsampling,hashfxn=myhashfxn)\n",
        "\n",
        "# If you don't plan to train the model any further, calling \n",
        "# init_sims will make the model much more memory-efficient.\n",
        "model.init_sims(replace=True)\n",
        "\n",
        "# It can be helpful to create a meaningful model name and \n",
        "# save the model for later use. You can load it later using Word2Vec.load()\n",
        "model_name = \"300features_40minwords_10context\"\n",
        "model.save(model_name)\n"
      ],
      "execution_count": 0,
      "outputs": [
        {
          "output_type": "stream",
          "text": [
            "2019-06-06 02:15:44,719 : INFO : 'pattern' package not found; tag filters are not available for English\n",
            "2019-06-06 02:15:44,729 : INFO : collecting all words and their counts\n",
            "2019-06-06 02:15:44,730 : INFO : PROGRESS: at sentence #0, processed 0 words, keeping 0 word types\n",
            "2019-06-06 02:15:44,786 : INFO : PROGRESS: at sentence #10000, processed 225803 words, keeping 17776 word types\n",
            "2019-06-06 02:15:44,845 : INFO : PROGRESS: at sentence #20000, processed 451892 words, keeping 24948 word types\n",
            "2019-06-06 02:15:44,901 : INFO : PROGRESS: at sentence #30000, processed 671315 words, keeping 30034 word types\n"
          ],
          "name": "stderr"
        },
        {
          "output_type": "stream",
          "text": [
            "Training model...\n"
          ],
          "name": "stdout"
        },
        {
          "output_type": "stream",
          "text": [
            "2019-06-06 02:15:44,963 : INFO : PROGRESS: at sentence #40000, processed 897815 words, keeping 34348 word types\n",
            "2019-06-06 02:15:45,019 : INFO : PROGRESS: at sentence #50000, processed 1116963 words, keeping 37761 word types\n",
            "2019-06-06 02:15:45,073 : INFO : PROGRESS: at sentence #60000, processed 1338404 words, keeping 40723 word types\n",
            "2019-06-06 02:15:45,127 : INFO : PROGRESS: at sentence #70000, processed 1561580 words, keeping 43333 word types\n",
            "2019-06-06 02:15:45,181 : INFO : PROGRESS: at sentence #80000, processed 1780887 words, keeping 45714 word types\n",
            "2019-06-06 02:15:45,235 : INFO : PROGRESS: at sentence #90000, processed 2004996 words, keeping 48135 word types\n",
            "2019-06-06 02:15:45,289 : INFO : PROGRESS: at sentence #100000, processed 2226966 words, keeping 50207 word types\n",
            "2019-06-06 02:15:45,342 : INFO : PROGRESS: at sentence #110000, processed 2446580 words, keeping 52081 word types\n",
            "2019-06-06 02:15:45,397 : INFO : PROGRESS: at sentence #120000, processed 2668775 words, keeping 54119 word types\n",
            "2019-06-06 02:15:45,452 : INFO : PROGRESS: at sentence #130000, processed 2894303 words, keeping 55847 word types\n",
            "2019-06-06 02:15:45,504 : INFO : PROGRESS: at sentence #140000, processed 3107005 words, keeping 57346 word types\n",
            "2019-06-06 02:15:45,558 : INFO : PROGRESS: at sentence #150000, processed 3332627 words, keeping 59055 word types\n",
            "2019-06-06 02:15:45,613 : INFO : PROGRESS: at sentence #160000, processed 3555315 words, keeping 60617 word types\n",
            "2019-06-06 02:15:45,666 : INFO : PROGRESS: at sentence #170000, processed 3778655 words, keeping 62077 word types\n",
            "2019-06-06 02:15:45,718 : INFO : PROGRESS: at sentence #180000, processed 3999236 words, keeping 63496 word types\n",
            "2019-06-06 02:15:45,771 : INFO : PROGRESS: at sentence #190000, processed 4224449 words, keeping 64794 word types\n",
            "2019-06-06 02:15:45,828 : INFO : PROGRESS: at sentence #200000, processed 4448603 words, keeping 66087 word types\n",
            "2019-06-06 02:15:45,881 : INFO : PROGRESS: at sentence #210000, processed 4669967 words, keeping 67390 word types\n",
            "2019-06-06 02:15:45,934 : INFO : PROGRESS: at sentence #220000, processed 4894968 words, keeping 68697 word types\n",
            "2019-06-06 02:15:45,988 : INFO : PROGRESS: at sentence #230000, processed 5117545 words, keeping 69958 word types\n",
            "2019-06-06 02:15:46,042 : INFO : PROGRESS: at sentence #240000, processed 5345050 words, keeping 71167 word types\n",
            "2019-06-06 02:15:46,097 : INFO : PROGRESS: at sentence #250000, processed 5559165 words, keeping 72351 word types\n",
            "2019-06-06 02:15:46,151 : INFO : PROGRESS: at sentence #260000, processed 5779146 words, keeping 73478 word types\n",
            "2019-06-06 02:15:46,188 : INFO : collected 74218 word types from a corpus of 5920724 raw words and 266551 sentences\n",
            "2019-06-06 02:15:46,189 : INFO : Loading a fresh vocabulary\n",
            "2019-06-06 02:15:46,239 : INFO : effective_min_count=60 retains 6278 unique words (8% of original 74218, drops 67940)\n",
            "2019-06-06 02:15:46,240 : INFO : effective_min_count=60 leaves 5461149 word corpus (92% of original 5920724, drops 459575)\n",
            "2019-06-06 02:15:46,261 : INFO : deleting the raw counts dictionary of 74218 items\n",
            "2019-06-06 02:15:46,264 : INFO : sample=0.001 downsamples 50 most-common words\n",
            "2019-06-06 02:15:46,265 : INFO : downsampling leaves estimated 3933998 word corpus (72.0% of prior 5461149)\n",
            "2019-06-06 02:15:46,282 : INFO : estimated required memory for 6278 words and 400 dimensions: 23228600 bytes\n",
            "2019-06-06 02:15:46,282 : INFO : resetting layer weights\n",
            "2019-06-06 02:15:46,365 : INFO : training model with 4 workers on 6278 vocabulary and 400 features, using sg=0 hs=0 sample=0.001 negative=5 window=10\n",
            "2019-06-06 02:15:47,385 : INFO : EPOCH 1 - PROGRESS: at 10.38% examples, 406628 words/s, in_qsize 7, out_qsize 0\n",
            "2019-06-06 02:15:48,408 : INFO : EPOCH 1 - PROGRESS: at 21.29% examples, 413575 words/s, in_qsize 7, out_qsize 1\n",
            "2019-06-06 02:15:49,410 : INFO : EPOCH 1 - PROGRESS: at 32.44% examples, 421396 words/s, in_qsize 7, out_qsize 0\n",
            "2019-06-06 02:15:50,432 : INFO : EPOCH 1 - PROGRESS: at 43.62% examples, 423259 words/s, in_qsize 7, out_qsize 0\n",
            "2019-06-06 02:15:51,464 : INFO : EPOCH 1 - PROGRESS: at 54.97% examples, 424817 words/s, in_qsize 7, out_qsize 0\n",
            "2019-06-06 02:15:52,484 : INFO : EPOCH 1 - PROGRESS: at 66.10% examples, 425588 words/s, in_qsize 7, out_qsize 0\n",
            "2019-06-06 02:15:53,492 : INFO : EPOCH 1 - PROGRESS: at 77.17% examples, 426817 words/s, in_qsize 7, out_qsize 0\n",
            "2019-06-06 02:15:54,514 : INFO : EPOCH 1 - PROGRESS: at 87.80% examples, 425321 words/s, in_qsize 7, out_qsize 0\n",
            "2019-06-06 02:15:55,526 : INFO : EPOCH 1 - PROGRESS: at 99.28% examples, 426877 words/s, in_qsize 5, out_qsize 0\n",
            "2019-06-06 02:15:55,543 : INFO : worker thread finished; awaiting finish of 3 more threads\n",
            "2019-06-06 02:15:55,556 : INFO : worker thread finished; awaiting finish of 2 more threads\n",
            "2019-06-06 02:15:55,571 : INFO : worker thread finished; awaiting finish of 1 more threads\n",
            "2019-06-06 02:15:55,572 : INFO : worker thread finished; awaiting finish of 0 more threads\n",
            "2019-06-06 02:15:55,573 : INFO : EPOCH - 1 : training on 5920724 raw words (3934036 effective words) took 9.2s, 427695 effective words/s\n",
            "2019-06-06 02:15:56,590 : INFO : EPOCH 2 - PROGRESS: at 10.55% examples, 415013 words/s, in_qsize 7, out_qsize 0\n",
            "2019-06-06 02:15:57,597 : INFO : EPOCH 2 - PROGRESS: at 21.61% examples, 425098 words/s, in_qsize 7, out_qsize 0\n",
            "2019-06-06 02:15:58,603 : INFO : EPOCH 2 - PROGRESS: at 32.44% examples, 423699 words/s, in_qsize 7, out_qsize 0\n",
            "2019-06-06 02:15:59,616 : INFO : EPOCH 2 - PROGRESS: at 43.78% examples, 427531 words/s, in_qsize 7, out_qsize 0\n",
            "2019-06-06 02:16:00,655 : INFO : EPOCH 2 - PROGRESS: at 54.79% examples, 425298 words/s, in_qsize 7, out_qsize 0\n",
            "2019-06-06 02:16:01,651 : INFO : EPOCH 2 - PROGRESS: at 65.75% examples, 426312 words/s, in_qsize 7, out_qsize 0\n",
            "2019-06-06 02:16:02,657 : INFO : EPOCH 2 - PROGRESS: at 76.66% examples, 426679 words/s, in_qsize 7, out_qsize 0\n",
            "2019-06-06 02:16:03,666 : INFO : EPOCH 2 - PROGRESS: at 87.48% examples, 426696 words/s, in_qsize 7, out_qsize 0\n",
            "2019-06-06 02:16:04,667 : INFO : EPOCH 2 - PROGRESS: at 98.77% examples, 427844 words/s, in_qsize 7, out_qsize 0\n",
            "2019-06-06 02:16:04,722 : INFO : worker thread finished; awaiting finish of 3 more threads\n",
            "2019-06-06 02:16:04,730 : INFO : worker thread finished; awaiting finish of 2 more threads\n",
            "2019-06-06 02:16:04,743 : INFO : worker thread finished; awaiting finish of 1 more threads\n",
            "2019-06-06 02:16:04,751 : INFO : worker thread finished; awaiting finish of 0 more threads\n",
            "2019-06-06 02:16:04,752 : INFO : EPOCH - 2 : training on 5920724 raw words (3933412 effective words) took 9.2s, 429040 effective words/s\n",
            "2019-06-06 02:16:05,813 : INFO : EPOCH 3 - PROGRESS: at 10.71% examples, 403540 words/s, in_qsize 7, out_qsize 0\n",
            "2019-06-06 02:16:06,828 : INFO : EPOCH 3 - PROGRESS: at 21.95% examples, 419890 words/s, in_qsize 7, out_qsize 0\n",
            "2019-06-06 02:16:07,843 : INFO : EPOCH 3 - PROGRESS: at 32.76% examples, 419402 words/s, in_qsize 8, out_qsize 1\n",
            "2019-06-06 02:16:08,848 : INFO : EPOCH 3 - PROGRESS: at 43.95% examples, 423435 words/s, in_qsize 7, out_qsize 0\n",
            "2019-06-06 02:16:09,852 : INFO : EPOCH 3 - PROGRESS: at 54.97% examples, 424708 words/s, in_qsize 7, out_qsize 0\n",
            "2019-06-06 02:16:10,852 : INFO : EPOCH 3 - PROGRESS: at 65.75% examples, 424771 words/s, in_qsize 7, out_qsize 0\n",
            "2019-06-06 02:16:11,867 : INFO : EPOCH 3 - PROGRESS: at 77.00% examples, 426643 words/s, in_qsize 7, out_qsize 0\n",
            "2019-06-06 02:16:12,878 : INFO : EPOCH 3 - PROGRESS: at 87.47% examples, 424886 words/s, in_qsize 7, out_qsize 0\n",
            "2019-06-06 02:16:13,884 : INFO : EPOCH 3 - PROGRESS: at 98.77% examples, 426053 words/s, in_qsize 7, out_qsize 0\n",
            "2019-06-06 02:16:13,941 : INFO : worker thread finished; awaiting finish of 3 more threads\n",
            "2019-06-06 02:16:13,951 : INFO : worker thread finished; awaiting finish of 2 more threads\n",
            "2019-06-06 02:16:13,971 : INFO : worker thread finished; awaiting finish of 1 more threads\n",
            "2019-06-06 02:16:13,977 : INFO : worker thread finished; awaiting finish of 0 more threads\n",
            "2019-06-06 02:16:13,978 : INFO : EPOCH - 3 : training on 5920724 raw words (3933779 effective words) took 9.2s, 426823 effective words/s\n",
            "2019-06-06 02:16:14,994 : INFO : EPOCH 4 - PROGRESS: at 10.71% examples, 421947 words/s, in_qsize 8, out_qsize 1\n",
            "2019-06-06 02:16:16,005 : INFO : EPOCH 4 - PROGRESS: at 21.45% examples, 420339 words/s, in_qsize 7, out_qsize 0\n",
            "2019-06-06 02:16:17,043 : INFO : EPOCH 4 - PROGRESS: at 32.76% examples, 423055 words/s, in_qsize 7, out_qsize 0\n",
            "2019-06-06 02:16:18,064 : INFO : EPOCH 4 - PROGRESS: at 44.10% examples, 426267 words/s, in_qsize 7, out_qsize 0\n",
            "2019-06-06 02:16:19,067 : INFO : EPOCH 4 - PROGRESS: at 55.28% examples, 428252 words/s, in_qsize 7, out_qsize 0\n",
            "2019-06-06 02:16:20,097 : INFO : EPOCH 4 - PROGRESS: at 66.59% examples, 428933 words/s, in_qsize 7, out_qsize 0\n",
            "2019-06-06 02:16:21,104 : INFO : EPOCH 4 - PROGRESS: at 77.65% examples, 429764 words/s, in_qsize 7, out_qsize 0\n",
            "2019-06-06 02:16:22,126 : INFO : EPOCH 4 - PROGRESS: at 88.82% examples, 430430 words/s, in_qsize 7, out_qsize 0\n",
            "2019-06-06 02:16:23,091 : INFO : worker thread finished; awaiting finish of 3 more threads\n",
            "2019-06-06 02:16:23,096 : INFO : worker thread finished; awaiting finish of 2 more threads\n",
            "2019-06-06 02:16:23,098 : INFO : worker thread finished; awaiting finish of 1 more threads\n",
            "2019-06-06 02:16:23,099 : INFO : worker thread finished; awaiting finish of 0 more threads\n",
            "2019-06-06 02:16:23,103 : INFO : EPOCH - 4 : training on 5920724 raw words (3934080 effective words) took 9.1s, 431598 effective words/s\n",
            "2019-06-06 02:16:24,118 : INFO : EPOCH 5 - PROGRESS: at 10.71% examples, 423774 words/s, in_qsize 7, out_qsize 0\n",
            "2019-06-06 02:16:25,124 : INFO : EPOCH 5 - PROGRESS: at 21.64% examples, 425588 words/s, in_qsize 6, out_qsize 1\n",
            "2019-06-06 02:16:26,128 : INFO : EPOCH 5 - PROGRESS: at 32.60% examples, 427180 words/s, in_qsize 7, out_qsize 0\n",
            "2019-06-06 02:16:27,145 : INFO : EPOCH 5 - PROGRESS: at 43.78% examples, 428214 words/s, in_qsize 7, out_qsize 0\n",
            "2019-06-06 02:16:28,167 : INFO : EPOCH 5 - PROGRESS: at 55.12% examples, 429527 words/s, in_qsize 7, out_qsize 0\n",
            "2019-06-06 02:16:29,178 : INFO : EPOCH 5 - PROGRESS: at 66.26% examples, 430095 words/s, in_qsize 7, out_qsize 0\n",
            "2019-06-06 02:16:30,181 : INFO : EPOCH 5 - PROGRESS: at 77.17% examples, 430142 words/s, in_qsize 7, out_qsize 0\n",
            "2019-06-06 02:16:31,192 : INFO : EPOCH 5 - PROGRESS: at 88.31% examples, 431210 words/s, in_qsize 7, out_qsize 0\n",
            "2019-06-06 02:16:32,184 : INFO : worker thread finished; awaiting finish of 3 more threads\n",
            "2019-06-06 02:16:32,198 : INFO : EPOCH 5 - PROGRESS: at 99.65% examples, 431646 words/s, in_qsize 2, out_qsize 1\n",
            "2019-06-06 02:16:32,199 : INFO : worker thread finished; awaiting finish of 2 more threads\n",
            "2019-06-06 02:16:32,209 : INFO : worker thread finished; awaiting finish of 1 more threads\n",
            "2019-06-06 02:16:32,214 : INFO : worker thread finished; awaiting finish of 0 more threads\n",
            "2019-06-06 02:16:32,215 : INFO : EPOCH - 5 : training on 5920724 raw words (3933706 effective words) took 9.1s, 432312 effective words/s\n",
            "2019-06-06 02:16:32,216 : INFO : training on a 29603620 raw words (19669013 effective words) took 45.8s, 428987 effective words/s\n",
            "2019-06-06 02:16:32,217 : INFO : precomputing L2-norms of word weight vectors\n",
            "2019-06-06 02:16:32,267 : INFO : saving Word2Vec object under 300features_40minwords_10context, separately None\n",
            "2019-06-06 02:16:32,268 : INFO : not storing attribute vectors_norm\n",
            "2019-06-06 02:16:32,270 : INFO : not storing attribute cum_table\n",
            "2019-06-06 02:16:32,271 : WARNING : this function is deprecated, use smart_open.open instead\n",
            "2019-06-06 02:16:32,510 : INFO : saved 300features_40minwords_10context\n"
          ],
          "name": "stderr"
        }
      ]
    },
    {
      "cell_type": "code",
      "metadata": {
        "id": "hRHjnKP3O2-1",
        "colab_type": "code",
        "outputId": "94622392-c3b1-44af-9395-b5f3fd0d9149",
        "colab": {
          "base_uri": "https://localhost:8080/",
          "height": 159
        }
      },
      "source": [
        "model.doesnt_match(\"man woman child kitchen\".split())\n"
      ],
      "execution_count": 0,
      "outputs": [
        {
          "output_type": "stream",
          "text": [
            "/usr/local/lib/python3.6/dist-packages/ipykernel_launcher.py:1: DeprecationWarning: Call to deprecated `doesnt_match` (Method will be removed in 4.0.0, use self.wv.doesnt_match() instead).\n",
            "  \"\"\"Entry point for launching an IPython kernel.\n",
            "/usr/local/lib/python3.6/dist-packages/gensim/models/keyedvectors.py:895: FutureWarning: arrays to stack must be passed as a \"sequence\" type such as list or tuple. Support for non-sequence iterables such as generators is deprecated as of NumPy 1.16 and will raise an error in the future.\n",
            "  vectors = vstack(self.word_vec(word, use_norm=True) for word in used_words).astype(REAL)\n",
            "/usr/local/lib/python3.6/dist-packages/gensim/matutils.py:737: FutureWarning: Conversion of the second argument of issubdtype from `int` to `np.signedinteger` is deprecated. In future, it will be treated as `np.int64 == np.dtype(int).type`.\n",
            "  if np.issubdtype(vec.dtype, np.int):\n"
          ],
          "name": "stderr"
        },
        {
          "output_type": "execute_result",
          "data": {
            "text/plain": [
              "'kitchen'"
            ]
          },
          "metadata": {
            "tags": []
          },
          "execution_count": 90
        }
      ]
    },
    {
      "cell_type": "code",
      "metadata": {
        "id": "7HrctvxdO26f",
        "colab_type": "code",
        "outputId": "d806b3e5-8cdc-4553-980b-bec741f50c0b",
        "colab": {
          "base_uri": "https://localhost:8080/",
          "height": 280
        }
      },
      "source": [
        "\n",
        "model.most_similar(\"man\")\n",
        "\n"
      ],
      "execution_count": 0,
      "outputs": [
        {
          "output_type": "stream",
          "text": [
            "/usr/local/lib/python3.6/dist-packages/ipykernel_launcher.py:2: DeprecationWarning: Call to deprecated `most_similar` (Method will be removed in 4.0.0, use self.wv.most_similar() instead).\n",
            "  \n",
            "/usr/local/lib/python3.6/dist-packages/gensim/matutils.py:737: FutureWarning: Conversion of the second argument of issubdtype from `int` to `np.signedinteger` is deprecated. In future, it will be treated as `np.int64 == np.dtype(int).type`.\n",
            "  if np.issubdtype(vec.dtype, np.int):\n"
          ],
          "name": "stderr"
        },
        {
          "output_type": "execute_result",
          "data": {
            "text/plain": [
              "[('woman', 0.6654655933380127),\n",
              " ('doctor', 0.6339104175567627),\n",
              " ('boy', 0.6286064982414246),\n",
              " ('journalist', 0.594315767288208),\n",
              " ('businessman', 0.5905495285987854),\n",
              " ('lady', 0.5899538397789001),\n",
              " ('guy', 0.5748952627182007),\n",
              " ('soldier', 0.5712598562240601),\n",
              " ('scientist', 0.5709996223449707),\n",
              " ('priest', 0.5663358569145203)]"
            ]
          },
          "metadata": {
            "tags": []
          },
          "execution_count": 91
        }
      ]
    },
    {
      "cell_type": "code",
      "metadata": {
        "id": "7jujvNDbPKve",
        "colab_type": "code",
        "colab": {}
      },
      "source": [
        "#Vector Averaging\n",
        "import numpy as np # Make sure that numpy is imported\n",
        "def makeFeatureVec(words, model, num_features):\n",
        "# Function to average all of the word vectors in a given\n",
        "# paragraph\n",
        "#\n",
        "# Pre-initialize an empty numpy array (for speed)\n",
        "    featureVec = np.zeros((num_features,),dtype=\"float32\")\n",
        "#\n",
        "    nwords = 0.\n",
        "#\n",
        "# Index2word is a list that contains the names of the words in\n",
        "# the model's vocabulary. Convert it to a set, for speed\n",
        "    index2word_set = set(model.wv.index2word)\n",
        "#\n",
        "# Loop over each word in the review and, if it is in the model's\n",
        "# vocaublary, add its feature vector to the total\n",
        "    for word in words:\n",
        "        if word in index2word_set:\n",
        "            nwords = nwords + 1.\n",
        "            featureVec = np.add(featureVec,model[word])\n",
        "#\n",
        "# Divide the result by the number of words to get the average\n",
        "    featureVec = np.divide(featureVec,nwords)\n",
        "    return featureVec\n",
        "\n"
      ],
      "execution_count": 0,
      "outputs": []
    },
    {
      "cell_type": "code",
      "metadata": {
        "id": "c058MlCUPK3n",
        "colab_type": "code",
        "colab": {}
      },
      "source": [
        "def getAvgFeatureVecs(reviews, model, num_features):\n",
        "# Given a set of reviews (each one a list of words), calculate\n",
        "# the average feature vector for each one and return a 2D numpy array\n",
        "#\n",
        "# Initialize a counter\n",
        "    counter = 0\n",
        "#\n",
        "# Preallocate a 2D numpy array, for speed\n",
        "    reviewFeatureVecs = np.zeros((len(reviews),num_features),dtype=\"float32\")\n",
        "# Loop through the reviews\n",
        "    for review in reviews:\n",
        "        if counter%1000 == 0:\n",
        "            print (\"Review %d of %d\" % (counter, len(reviews)))\n",
        "        reviewFeatureVecs[counter] = makeFeatureVec(review, model,num_features)\n",
        "#\n",
        "# Increment the counter\n",
        "        counter = counter + 1\n",
        "    return reviewFeatureVecs\n",
        "\n",
        "\n"
      ],
      "execution_count": 0,
      "outputs": []
    },
    {
      "cell_type": "code",
      "metadata": {
        "id": "GjB4MMtqPLCN",
        "colab_type": "code",
        "outputId": "cfee0286-78b8-4ef6-9f2a-f8fe52a82d79",
        "colab": {
          "base_uri": "https://localhost:8080/",
          "height": 235
        }
      },
      "source": [
        "clean_train_reviews = []\n",
        "for review in train1:\n",
        "    clean_train_reviews.append( review_to_wordlist( review,         remove_stopwords=True ))\n",
        "    \n",
        "trainDataVecs = getAvgFeatureVecs( clean_train_reviews, model, num_features )\n",
        "print (\"Creating average feature vecs for test reviews\")\n",
        "clean_test_reviews = []\n",
        "for review in test1:\n",
        "    clean_test_reviews.append( review_to_wordlist( review,         remove_stopwords=True ))\n",
        "\n",
        "\n",
        "# In[52]:"
      ],
      "execution_count": 0,
      "outputs": [
        {
          "output_type": "error",
          "ename": "NameError",
          "evalue": "ignored",
          "traceback": [
            "\u001b[0;31m---------------------------------------------------------------------------\u001b[0m",
            "\u001b[0;31mNameError\u001b[0m                                 Traceback (most recent call last)",
            "\u001b[0;32m<ipython-input-94-ad58fd9a1297>\u001b[0m in \u001b[0;36m<module>\u001b[0;34m()\u001b[0m\n\u001b[1;32m      1\u001b[0m \u001b[0mclean_train_reviews\u001b[0m \u001b[0;34m=\u001b[0m \u001b[0;34m[\u001b[0m\u001b[0;34m]\u001b[0m\u001b[0;34m\u001b[0m\u001b[0;34m\u001b[0m\u001b[0m\n\u001b[0;32m----> 2\u001b[0;31m \u001b[0;32mfor\u001b[0m \u001b[0mreview\u001b[0m \u001b[0;32min\u001b[0m \u001b[0mtrain1\u001b[0m\u001b[0;34m:\u001b[0m\u001b[0;34m\u001b[0m\u001b[0;34m\u001b[0m\u001b[0m\n\u001b[0m\u001b[1;32m      3\u001b[0m     \u001b[0mclean_train_reviews\u001b[0m\u001b[0;34m.\u001b[0m\u001b[0mappend\u001b[0m\u001b[0;34m(\u001b[0m \u001b[0mreview_to_wordlist\u001b[0m\u001b[0;34m(\u001b[0m \u001b[0mreview\u001b[0m\u001b[0;34m,\u001b[0m         \u001b[0mremove_stopwords\u001b[0m\u001b[0;34m=\u001b[0m\u001b[0;32mTrue\u001b[0m \u001b[0;34m)\u001b[0m\u001b[0;34m)\u001b[0m\u001b[0;34m\u001b[0m\u001b[0;34m\u001b[0m\u001b[0m\n\u001b[1;32m      4\u001b[0m \u001b[0;34m\u001b[0m\u001b[0m\n\u001b[1;32m      5\u001b[0m \u001b[0mtrainDataVecs\u001b[0m \u001b[0;34m=\u001b[0m \u001b[0mgetAvgFeatureVecs\u001b[0m\u001b[0;34m(\u001b[0m \u001b[0mclean_train_reviews\u001b[0m\u001b[0;34m,\u001b[0m \u001b[0mmodel\u001b[0m\u001b[0;34m,\u001b[0m \u001b[0mnum_features\u001b[0m \u001b[0;34m)\u001b[0m\u001b[0;34m\u001b[0m\u001b[0;34m\u001b[0m\u001b[0m\n",
            "\u001b[0;31mNameError\u001b[0m: name 'train1' is not defined"
          ]
        }
      ]
    },
    {
      "cell_type": "code",
      "metadata": {
        "id": "ajbzoLmrPK_I",
        "colab_type": "code",
        "colab": {}
      },
      "source": [
        ""
      ],
      "execution_count": 0,
      "outputs": []
    },
    {
      "cell_type": "code",
      "metadata": {
        "id": "4DHiVhllPK0z",
        "colab_type": "code",
        "colab": {}
      },
      "source": [
        ""
      ],
      "execution_count": 0,
      "outputs": []
    },
    {
      "cell_type": "code",
      "metadata": {
        "id": "dDoM4k_bPKyo",
        "colab_type": "code",
        "colab": {}
      },
      "source": [
        ""
      ],
      "execution_count": 0,
      "outputs": []
    }
  ]
}